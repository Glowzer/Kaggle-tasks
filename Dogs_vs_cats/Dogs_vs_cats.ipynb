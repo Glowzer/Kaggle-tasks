{
 "cells": [
  {
   "cell_type": "code",
   "execution_count": 2,
   "metadata": {},
   "outputs": [],
   "source": [
    "import warnings\n",
    "warnings.filterwarnings('ignore')\n",
    "import keras"
   ]
  },
  {
   "cell_type": "code",
   "execution_count": 6,
   "metadata": {},
   "outputs": [],
   "source": [
    "import os\n",
    "\n",
    "original_dataset_dir = 'Downloads/PetImages'\n",
    "\n",
    "base_dir = 'Downloads/cats_and_dogs_small'\n",
    "os.mkdir(base_dir)\n",
    "\n",
    "train_dir = os.path.join(base_dir, 'train')\n",
    "os.mkdir(train_dir)\n",
    "valid_dir = os.path.join(base_dir, 'valid')\n",
    "os.mkdir(valid_dir)\n",
    "test_dir = os.path.join(base_dir, 'test')\n",
    "os.mkdir(test_dir)\n",
    "\n",
    "train_cats_dir = os.path.join(train_dir, 'cats')\n",
    "os.mkdir(train_cats_dir)\n",
    "train_dogs_dir = os.path.join(train_dir, 'dogs')\n",
    "os.mkdir(train_dogs_dir)\n",
    "\n",
    "valid_cats_dir = os.path.join(valid_dir, 'cats')\n",
    "os.mkdir(valid_cats_dir)\n",
    "valid_dogs_dir = os.path.join(valid_dir, 'dogs')\n",
    "os.mkdir(valid_dogs_dir)\n",
    "\n",
    "test_cats_dir = os.path.join(test_dir, 'cats')\n",
    "os.mkdir(test_cats_dir)\n",
    "test_dogs_dir = os.path.join(test_dir, 'dogs')\n",
    "os.mkdir(test_dogs_dir)"
   ]
  },
  {
   "cell_type": "code",
   "execution_count": 7,
   "metadata": {},
   "outputs": [],
   "source": [
    "import shutil\n",
    "\n",
    "fnames = ['{}.jpg'.format(i) for i in range(3000)]\n",
    "for fname in fnames:\n",
    "    src1 = os.path.join(original_dataset_dir + '/Cat', fname)\n",
    "    dst1 = os.path.join(train_cats_dir, fname)\n",
    "    src2 = os.path.join(original_dataset_dir + '/Dog', fname)\n",
    "    dst2 = os.path.join(train_dogs_dir, fname)\n",
    "    shutil.copyfile(src1, dst1)\n",
    "    shutil.copyfile(src2, dst2)\n",
    "    \n",
    "fnames = ['{}.jpg'.format(i) for i in range(3000, 4500)]\n",
    "for fname in fnames:\n",
    "    src1 = os.path.join(original_dataset_dir + '/Cat', fname)\n",
    "    dst1 = os.path.join(valid_cats_dir, fname)\n",
    "    src2 = os.path.join(original_dataset_dir + '/Dog', fname)\n",
    "    dst2 = os.path.join(valid_dogs_dir, fname)\n",
    "    shutil.copyfile(src1, dst1)\n",
    "    shutil.copyfile(src2, dst2)\n",
    "\n",
    "fnames = ['{}.jpg'.format(i) for i in range(4500, 6000)]\n",
    "for fname in fnames:\n",
    "    src1 = os.path.join(original_dataset_dir + '/Cat', fname)\n",
    "    dst1 = os.path.join(test_cats_dir, fname)\n",
    "    src2 = os.path.join(original_dataset_dir + '/Dog', fname)\n",
    "    dst2 = os.path.join(test_dogs_dir, fname)\n",
    "    shutil.copyfile(src1, dst1)\n",
    "    shutil.copyfile(src2, dst2)"
   ]
  },
  {
   "cell_type": "code",
   "execution_count": 8,
   "metadata": {},
   "outputs": [
    {
     "name": "stdout",
     "output_type": "stream",
     "text": [
      "Found 6000 images belonging to 2 classes.\n",
      "Found 3000 images belonging to 2 classes.\n"
     ]
    }
   ],
   "source": [
    "from keras.preprocessing.image import ImageDataGenerator\n",
    "\n",
    "train_datagen = ImageDataGenerator(rescale=1./255)\n",
    "valid_datagen = ImageDataGenerator(rescale=1./255)\n",
    "\n",
    "train_generator = train_datagen.flow_from_directory(train_dir,\n",
    "                                                   target_size=(150, 150),\n",
    "                                                   batch_size=20,\n",
    "                                                   class_mode='binary')\n",
    "valid_generator = valid_datagen.flow_from_directory(valid_dir,\n",
    "                                                   target_size=(150, 150),\n",
    "                                                   batch_size=20,\n",
    "                                                   class_mode='binary')\n",
    "\n"
   ]
  },
  {
   "cell_type": "code",
   "execution_count": 9,
   "metadata": {},
   "outputs": [],
   "source": [
    "from keras import layers\n",
    "from keras import models\n",
    "\n",
    "model = models.Sequential()\n",
    "model.add(layers.Conv2D(32, (3, 3), activation='relu', input_shape=(150, 150, 3)))\n",
    "model.add(layers.MaxPooling2D((2, 2)))\n",
    "model.add(layers.Conv2D(64, (3, 3), activation='relu'))\n",
    "model.add(layers.MaxPooling2D((2, 2)))\n",
    "model.add(layers.Conv2D(128, (3, 3), activation='relu'))\n",
    "model.add(layers.MaxPooling2D((2, 2)))\n",
    "model.add(layers.Conv2D(128, (3, 3), activation='relu'))\n",
    "model.add(layers.MaxPooling2D((2, 2)))\n",
    "model.add(layers.Dropout(0.5))\n",
    "model.add(layers.Flatten())\n",
    "model.add(layers.Dense(512, activation='relu'))\n",
    "model.add(layers.Dense(1, activation='sigmoid'))"
   ]
  },
  {
   "cell_type": "code",
   "execution_count": 10,
   "metadata": {},
   "outputs": [
    {
     "name": "stdout",
     "output_type": "stream",
     "text": [
      "_________________________________________________________________\n",
      "Layer (type)                 Output Shape              Param #   \n",
      "=================================================================\n",
      "conv2d_1 (Conv2D)            (None, 148, 148, 32)      896       \n",
      "_________________________________________________________________\n",
      "max_pooling2d_1 (MaxPooling2 (None, 74, 74, 32)        0         \n",
      "_________________________________________________________________\n",
      "conv2d_2 (Conv2D)            (None, 72, 72, 64)        18496     \n",
      "_________________________________________________________________\n",
      "max_pooling2d_2 (MaxPooling2 (None, 36, 36, 64)        0         \n",
      "_________________________________________________________________\n",
      "conv2d_3 (Conv2D)            (None, 34, 34, 128)       73856     \n",
      "_________________________________________________________________\n",
      "max_pooling2d_3 (MaxPooling2 (None, 17, 17, 128)       0         \n",
      "_________________________________________________________________\n",
      "conv2d_4 (Conv2D)            (None, 15, 15, 128)       147584    \n",
      "_________________________________________________________________\n",
      "max_pooling2d_4 (MaxPooling2 (None, 7, 7, 128)         0         \n",
      "_________________________________________________________________\n",
      "dropout_1 (Dropout)          (None, 7, 7, 128)         0         \n",
      "_________________________________________________________________\n",
      "flatten_1 (Flatten)          (None, 6272)              0         \n",
      "_________________________________________________________________\n",
      "dense_1 (Dense)              (None, 512)               3211776   \n",
      "_________________________________________________________________\n",
      "dense_2 (Dense)              (None, 1)                 513       \n",
      "=================================================================\n",
      "Total params: 3,453,121\n",
      "Trainable params: 3,453,121\n",
      "Non-trainable params: 0\n",
      "_________________________________________________________________\n"
     ]
    }
   ],
   "source": [
    "model.summary()"
   ]
  },
  {
   "cell_type": "code",
   "execution_count": 11,
   "metadata": {},
   "outputs": [
    {
     "name": "stdout",
     "output_type": "stream",
     "text": [
      "Epoch 1/30\n",
      " 16/100 [===>..........................] - ETA: 1:17 - loss: 0.7023 - acc: 0.4813"
     ]
    },
    {
     "name": "stderr",
     "output_type": "stream",
     "text": [
      "C:\\Users\\Glowzer-PC\\Anaconda3\\lib\\site-packages\\PIL\\TiffImagePlugin.py:739: UserWarning: Possibly corrupt EXIF data.  Expecting to read 262146 bytes but only got 0. Skipping tag 2\n",
      "  \" Skipping tag %s\" % (size, len(data), tag))\n",
      "C:\\Users\\Glowzer-PC\\Anaconda3\\lib\\site-packages\\PIL\\TiffImagePlugin.py:739: UserWarning: Possibly corrupt EXIF data.  Expecting to read 262151 bytes but only got 0. Skipping tag 56\n",
      "  \" Skipping tag %s\" % (size, len(data), tag))\n",
      "C:\\Users\\Glowzer-PC\\Anaconda3\\lib\\site-packages\\PIL\\TiffImagePlugin.py:756: UserWarning: Corrupt EXIF data.  Expecting to read 12 bytes but only got 0. \n",
      "  warnings.warn(str(msg))\n"
     ]
    },
    {
     "name": "stdout",
     "output_type": "stream",
     "text": [
      " 99/100 [============================>.] - ETA: 0s - loss: 0.6924 - acc: 0.5197"
     ]
    },
    {
     "name": "stderr",
     "output_type": "stream",
     "text": [
      "C:\\Users\\Glowzer-PC\\Anaconda3\\lib\\site-packages\\PIL\\TiffImagePlugin.py:739: UserWarning: Possibly corrupt EXIF data.  Expecting to read 18350080 bytes but only got 0. Skipping tag 0\n",
      "  \" Skipping tag %s\" % (size, len(data), tag))\n",
      "C:\\Users\\Glowzer-PC\\Anaconda3\\lib\\site-packages\\PIL\\TiffImagePlugin.py:756: UserWarning: Corrupt EXIF data.  Expecting to read 12 bytes but only got 6. \n",
      "  warnings.warn(str(msg))\n"
     ]
    },
    {
     "name": "stdout",
     "output_type": "stream",
     "text": [
      "100/100 [==============================] - 113s 1s/step - loss: 0.6923 - acc: 0.5210 - val_loss: 0.6816 - val_acc: 0.5810\n",
      "Epoch 2/30\n",
      " 97/100 [============================>.] - ETA: 2s - loss: 0.6698 - acc: 0.5933"
     ]
    },
    {
     "name": "stderr",
     "output_type": "stream",
     "text": [
      "C:\\Users\\Glowzer-PC\\Anaconda3\\lib\\site-packages\\PIL\\TiffImagePlugin.py:739: UserWarning: Possibly corrupt EXIF data.  Expecting to read 80000 bytes but only got 0. Skipping tag 64640\n",
      "  \" Skipping tag %s\" % (size, len(data), tag))\n",
      "C:\\Users\\Glowzer-PC\\Anaconda3\\lib\\site-packages\\PIL\\TiffImagePlugin.py:739: UserWarning: Possibly corrupt EXIF data.  Expecting to read 6553600 bytes but only got 0. Skipping tag 49\n",
      "  \" Skipping tag %s\" % (size, len(data), tag))\n",
      "C:\\Users\\Glowzer-PC\\Anaconda3\\lib\\site-packages\\PIL\\TiffImagePlugin.py:739: UserWarning: Possibly corrupt EXIF data.  Expecting to read 1050744 bytes but only got 4951. Skipping tag 51\n",
      "  \" Skipping tag %s\" % (size, len(data), tag))\n",
      "C:\\Users\\Glowzer-PC\\Anaconda3\\lib\\site-packages\\PIL\\TiffImagePlugin.py:739: UserWarning: Possibly corrupt EXIF data.  Expecting to read 293339136 bytes but only got 0. Skipping tag 5\n",
      "  \" Skipping tag %s\" % (size, len(data), tag))\n",
      "C:\\Users\\Glowzer-PC\\Anaconda3\\lib\\site-packages\\PIL\\TiffImagePlugin.py:739: UserWarning: Possibly corrupt EXIF data.  Expecting to read 293863424 bytes but only got 0. Skipping tag 5\n",
      "  \" Skipping tag %s\" % (size, len(data), tag))\n",
      "C:\\Users\\Glowzer-PC\\Anaconda3\\lib\\site-packages\\PIL\\TiffImagePlugin.py:739: UserWarning: Possibly corrupt EXIF data.  Expecting to read 3368026112 bytes but only got 0. Skipping tag 7\n",
      "  \" Skipping tag %s\" % (size, len(data), tag))\n",
      "C:\\Users\\Glowzer-PC\\Anaconda3\\lib\\site-packages\\PIL\\TiffImagePlugin.py:739: UserWarning: Possibly corrupt EXIF data.  Expecting to read 134479872 bytes but only got 0. Skipping tag 7\n",
      "  \" Skipping tag %s\" % (size, len(data), tag))\n",
      "C:\\Users\\Glowzer-PC\\Anaconda3\\lib\\site-packages\\PIL\\TiffImagePlugin.py:739: UserWarning: Possibly corrupt EXIF data.  Expecting to read 295698432 bytes but only got 0. Skipping tag 10\n",
      "  \" Skipping tag %s\" % (size, len(data), tag))\n",
      "C:\\Users\\Glowzer-PC\\Anaconda3\\lib\\site-packages\\PIL\\TiffImagePlugin.py:739: UserWarning: Possibly corrupt EXIF data.  Expecting to read 296222720 bytes but only got 0. Skipping tag 5\n",
      "  \" Skipping tag %s\" % (size, len(data), tag))\n",
      "C:\\Users\\Glowzer-PC\\Anaconda3\\lib\\site-packages\\PIL\\TiffImagePlugin.py:739: UserWarning: Possibly corrupt EXIF data.  Expecting to read 3300917248 bytes but only got 0. Skipping tag 7\n",
      "  \" Skipping tag %s\" % (size, len(data), tag))\n",
      "C:\\Users\\Glowzer-PC\\Anaconda3\\lib\\site-packages\\PIL\\TiffImagePlugin.py:739: UserWarning: Possibly corrupt EXIF data.  Expecting to read 65536 bytes but only got 0. Skipping tag 3\n",
      "  \" Skipping tag %s\" % (size, len(data), tag))\n",
      "C:\\Users\\Glowzer-PC\\Anaconda3\\lib\\site-packages\\PIL\\TiffImagePlugin.py:739: UserWarning: Possibly corrupt EXIF data.  Expecting to read 14745600 bytes but only got 0. Skipping tag 4\n",
      "  \" Skipping tag %s\" % (size, len(data), tag))\n",
      "C:\\Users\\Glowzer-PC\\Anaconda3\\lib\\site-packages\\PIL\\TiffImagePlugin.py:739: UserWarning: Possibly corrupt EXIF data.  Expecting to read 25624576 bytes but only got 0. Skipping tag 4\n",
      "  \" Skipping tag %s\" % (size, len(data), tag))\n",
      "C:\\Users\\Glowzer-PC\\Anaconda3\\lib\\site-packages\\PIL\\TiffImagePlugin.py:739: UserWarning: Possibly corrupt EXIF data.  Expecting to read 317718528 bytes but only got 4956. Skipping tag 4\n",
      "  \" Skipping tag %s\" % (size, len(data), tag))\n",
      "C:\\Users\\Glowzer-PC\\Anaconda3\\lib\\site-packages\\PIL\\TiffImagePlugin.py:739: UserWarning: Possibly corrupt EXIF data.  Expecting to read 131073 bytes but only got 4952. Skipping tag 0\n",
      "  \" Skipping tag %s\" % (size, len(data), tag))\n",
      "C:\\Users\\Glowzer-PC\\Anaconda3\\lib\\site-packages\\PIL\\TiffImagePlugin.py:739: UserWarning: Possibly corrupt EXIF data.  Expecting to read 393216 bytes but only got 0. Skipping tag 3\n",
      "  \" Skipping tag %s\" % (size, len(data), tag))\n",
      "C:\\Users\\Glowzer-PC\\Anaconda3\\lib\\site-packages\\PIL\\TiffImagePlugin.py:739: UserWarning: Possibly corrupt EXIF data.  Expecting to read 287178752 bytes but only got 0. Skipping tag 5\n",
      "  \" Skipping tag %s\" % (size, len(data), tag))\n",
      "C:\\Users\\Glowzer-PC\\Anaconda3\\lib\\site-packages\\PIL\\TiffImagePlugin.py:739: UserWarning: Possibly corrupt EXIF data.  Expecting to read 287703040 bytes but only got 0. Skipping tag 5\n",
      "  \" Skipping tag %s\" % (size, len(data), tag))\n",
      "C:\\Users\\Glowzer-PC\\Anaconda3\\lib\\site-packages\\PIL\\TiffImagePlugin.py:739: UserWarning: Possibly corrupt EXIF data.  Expecting to read 131072 bytes but only got 0. Skipping tag 3\n",
      "  \" Skipping tag %s\" % (size, len(data), tag))\n",
      "C:\\Users\\Glowzer-PC\\Anaconda3\\lib\\site-packages\\PIL\\TiffImagePlugin.py:739: UserWarning: Possibly corrupt EXIF data.  Expecting to read 524288 bytes but only got 0. Skipping tag 4\n",
      "  \" Skipping tag %s\" % (size, len(data), tag))\n",
      "C:\\Users\\Glowzer-PC\\Anaconda3\\lib\\site-packages\\PIL\\TiffImagePlugin.py:739: UserWarning: Possibly corrupt EXIF data.  Expecting to read 286654464 bytes but only got 4956. Skipping tag 4\n",
      "  \" Skipping tag %s\" % (size, len(data), tag))\n",
      "C:\\Users\\Glowzer-PC\\Anaconda3\\lib\\site-packages\\PIL\\TiffImagePlugin.py:756: UserWarning: Corrupt EXIF data.  Expecting to read 12 bytes but only got 2. \n",
      "  warnings.warn(str(msg))\n"
     ]
    },
    {
     "name": "stdout",
     "output_type": "stream",
     "text": [
      "100/100 [==============================] - 111s 1s/step - loss: 0.6697 - acc: 0.5925 - val_loss: 0.6594 - val_acc: 0.6060\n",
      "Epoch 3/30\n",
      " 10/100 [==>...........................] - ETA: 1:24 - loss: 0.6416 - acc: 0.5900"
     ]
    },
    {
     "name": "stderr",
     "output_type": "stream",
     "text": [
      "C:\\Users\\Glowzer-PC\\Anaconda3\\lib\\site-packages\\PIL\\TiffImagePlugin.py:739: UserWarning: Possibly corrupt EXIF data.  Expecting to read 404094976 bytes but only got 0. Skipping tag 5\n",
      "  \" Skipping tag %s\" % (size, len(data), tag))\n",
      "C:\\Users\\Glowzer-PC\\Anaconda3\\lib\\site-packages\\PIL\\TiffImagePlugin.py:739: UserWarning: Possibly corrupt EXIF data.  Expecting to read 404619264 bytes but only got 0. Skipping tag 5\n",
      "  \" Skipping tag %s\" % (size, len(data), tag))\n",
      "C:\\Users\\Glowzer-PC\\Anaconda3\\lib\\site-packages\\PIL\\TiffImagePlugin.py:739: UserWarning: Possibly corrupt EXIF data.  Expecting to read 425459712 bytes but only got 0. Skipping tag 4\n",
      "  \" Skipping tag %s\" % (size, len(data), tag))\n",
      "C:\\Users\\Glowzer-PC\\Anaconda3\\lib\\site-packages\\PIL\\TiffImagePlugin.py:739: UserWarning: Possibly corrupt EXIF data.  Expecting to read 1385474 bytes but only got 6833. Skipping tag 513\n",
      "  \" Skipping tag %s\" % (size, len(data), tag))\n",
      "C:\\Users\\Glowzer-PC\\Anaconda3\\lib\\site-packages\\PIL\\TiffImagePlugin.py:739: UserWarning: Possibly corrupt EXIF data.  Expecting to read 3846701056 bytes but only got 0. Skipping tag 2\n",
      "  \" Skipping tag %s\" % (size, len(data), tag))\n",
      "C:\\Users\\Glowzer-PC\\Anaconda3\\lib\\site-packages\\PIL\\TiffImagePlugin.py:739: UserWarning: Possibly corrupt EXIF data.  Expecting to read 196867 bytes but only got 6833. Skipping tag 0\n",
      "  \" Skipping tag %s\" % (size, len(data), tag))\n",
      "C:\\Users\\Glowzer-PC\\Anaconda3\\lib\\site-packages\\PIL\\TiffImagePlugin.py:756: UserWarning: Corrupt EXIF data.  Expecting to read 12 bytes but only got 8. \n",
      "  warnings.warn(str(msg))\n"
     ]
    },
    {
     "name": "stdout",
     "output_type": "stream",
     "text": [
      "100/100 [==============================] - 112s 1s/step - loss: 0.6553 - acc: 0.6135 - val_loss: 0.6410 - val_acc: 0.6260\n",
      "Epoch 4/30\n",
      "100/100 [==============================] - 110s 1s/step - loss: 0.6307 - acc: 0.6440 - val_loss: 0.6332 - val_acc: 0.6110\n",
      "Epoch 5/30\n",
      "100/100 [==============================] - 110s 1s/step - loss: 0.6052 - acc: 0.6680 - val_loss: 0.5815 - val_acc: 0.7090\n",
      "Epoch 6/30\n",
      "100/100 [==============================] - 110s 1s/step - loss: 0.5821 - acc: 0.6840 - val_loss: 0.5482 - val_acc: 0.7160\n",
      "Epoch 7/30\n",
      "100/100 [==============================] - 110s 1s/step - loss: 0.5676 - acc: 0.7010 - val_loss: 0.5484 - val_acc: 0.7190\n",
      "Epoch 8/30\n",
      "100/100 [==============================] - 119s 1s/step - loss: 0.5717 - acc: 0.7075 - val_loss: 0.6233 - val_acc: 0.6790\n",
      "Epoch 9/30\n",
      "100/100 [==============================] - 122s 1s/step - loss: 0.5566 - acc: 0.7120 - val_loss: 0.5755 - val_acc: 0.7010\n",
      "Epoch 10/30\n",
      "100/100 [==============================] - 119s 1s/step - loss: 0.5413 - acc: 0.7215 - val_loss: 0.5225 - val_acc: 0.7540\n",
      "Epoch 11/30\n",
      "100/100 [==============================] - 120s 1s/step - loss: 0.5324 - acc: 0.7390 - val_loss: 0.5269 - val_acc: 0.7280\n",
      "Epoch 12/30\n",
      "100/100 [==============================] - 121s 1s/step - loss: 0.5156 - acc: 0.7390 - val_loss: 0.5148 - val_acc: 0.7410\n",
      "Epoch 13/30\n",
      "100/100 [==============================] - 119s 1s/step - loss: 0.5120 - acc: 0.7405 - val_loss: 0.5241 - val_acc: 0.7500\n",
      "Epoch 14/30\n",
      "100/100 [==============================] - 116s 1s/step - loss: 0.4947 - acc: 0.7590 - val_loss: 0.4942 - val_acc: 0.7580\n",
      "Epoch 15/30\n",
      "100/100 [==============================] - 116s 1s/step - loss: 0.4922 - acc: 0.7640 - val_loss: 0.4994 - val_acc: 0.7690\n",
      "Epoch 16/30\n",
      "100/100 [==============================] - 111s 1s/step - loss: 0.4492 - acc: 0.7855 - val_loss: 0.5045 - val_acc: 0.7710\n",
      "Epoch 17/30\n",
      "100/100 [==============================] - 110s 1s/step - loss: 0.4723 - acc: 0.7665 - val_loss: 0.5459 - val_acc: 0.7400\n",
      "Epoch 18/30\n",
      "100/100 [==============================] - 125s 1s/step - loss: 0.4782 - acc: 0.7760 - val_loss: 0.5474 - val_acc: 0.6970\n",
      "Epoch 19/30\n",
      "100/100 [==============================] - 117s 1s/step - loss: 0.4503 - acc: 0.7940 - val_loss: 0.4542 - val_acc: 0.7850\n",
      "Epoch 20/30\n",
      "100/100 [==============================] - 129s 1s/step - loss: 0.4438 - acc: 0.7910 - val_loss: 0.5295 - val_acc: 0.7290\n",
      "Epoch 21/30\n",
      "100/100 [==============================] - 132s 1s/step - loss: 0.4586 - acc: 0.7745 - val_loss: 0.4682 - val_acc: 0.7740\n",
      "Epoch 22/30\n",
      "100/100 [==============================] - 121s 1s/step - loss: 0.4165 - acc: 0.8105 - val_loss: 0.4559 - val_acc: 0.7880\n",
      "Epoch 23/30\n",
      "100/100 [==============================] - 119s 1s/step - loss: 0.4193 - acc: 0.7925 - val_loss: 0.4495 - val_acc: 0.8090\n",
      "Epoch 24/30\n",
      "100/100 [==============================] - 119s 1s/step - loss: 0.4458 - acc: 0.7910 - val_loss: 0.5150 - val_acc: 0.7450\n",
      "Epoch 25/30\n",
      "100/100 [==============================] - 119s 1s/step - loss: 0.4139 - acc: 0.8140 - val_loss: 0.4674 - val_acc: 0.8070\n",
      "Epoch 26/30\n",
      "100/100 [==============================] - 118s 1s/step - loss: 0.4018 - acc: 0.8110 - val_loss: 0.4295 - val_acc: 0.8070\n",
      "Epoch 27/30\n",
      "100/100 [==============================] - 120s 1s/step - loss: 0.4070 - acc: 0.8140 - val_loss: 0.4366 - val_acc: 0.8090\n",
      "Epoch 28/30\n",
      "100/100 [==============================] - 128s 1s/step - loss: 0.3747 - acc: 0.8325 - val_loss: 0.4412 - val_acc: 0.7980\n",
      "Epoch 29/30\n",
      "100/100 [==============================] - 121s 1s/step - loss: 0.4029 - acc: 0.8190 - val_loss: 0.4201 - val_acc: 0.8170\n",
      "Epoch 30/30\n",
      "100/100 [==============================] - 119s 1s/step - loss: 0.4015 - acc: 0.8150 - val_loss: 0.4574 - val_acc: 0.7800\n"
     ]
    }
   ],
   "source": [
    "from keras import optimizers\n",
    "\n",
    "model.compile(loss='binary_crossentropy',\n",
    "              optimizer=optimizers.RMSprop(lr=1e-4),\n",
    "              metrics=['accuracy'])\n",
    "\n",
    "history = model.fit_generator(train_generator,\n",
    "                             steps_per_epoch=100,\n",
    "                             epochs=30,\n",
    "                             validation_data=valid_generator,\n",
    "                             validation_steps=50)"
   ]
  },
  {
   "cell_type": "code",
   "execution_count": 14,
   "metadata": {},
   "outputs": [
    {
     "data": {
      "image/png": "[encoded data removed]",
      "text/plain": [
       "<Figure size 432x288 with 1 Axes>"
      ]
     },
     "metadata": {},
     "output_type": "display_data"
    },
    {
     "data": {
      "image/png": "[encoded data removed]",
      "text/plain": [
       "<Figure size 432x288 with 1 Axes>"
      ]
     },
     "metadata": {},
     "output_type": "display_data"
    }
   ],
   "source": [
    "import matplotlib.pyplot as plt\n",
    "\n",
    "acc = history.history['acc']\n",
    "val_acc = history.history['val_acc']\n",
    "loss = history.history['loss']\n",
    "val_loss = history.history['val_loss']\n",
    "\n",
    "epochs = range(len(acc))\n",
    "\n",
    "plt.plot(epochs, acc, 'bo', label='Training acc')\n",
    "plt.plot(epochs, val_acc, 'b', label='Validation acc')\n",
    "plt.title('Training and validation accuracy')\n",
    "plt.legend()\n",
    "\n",
    "plt.figure()\n",
    "\n",
    "plt.plot(epochs, loss, 'bo', label='Training loss')\n",
    "plt.plot(epochs, val_loss, 'b', label='Validation loss')\n",
    "plt.title('Training and validation loss')\n",
    "plt.legend()\n",
    "\n",
    "plt.show()"
   ]
  },
  {
   "cell_type": "code",
   "execution_count": null,
   "metadata": {},
   "outputs": [],
   "source": []
  }
 ],
 "metadata": {
  "kernelspec": {
   "display_name": "Python 3",
   "language": "python",
   "name": "python3"
  },
  "language_info": {
   "codemirror_mode": {
    "name": "ipython",
    "version": 3
   },
   "file_extension": ".py",
   "mimetype": "text/x-python",
   "name": "python",
   "nbconvert_exporter": "python",
   "pygments_lexer": "ipython3",
   "version": "3.6.5"
  }
 },
 "nbformat": 4,
 "nbformat_minor": 2
}
